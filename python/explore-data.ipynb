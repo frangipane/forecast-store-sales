{
 "cells": [
  {
   "cell_type": "code",
   "execution_count": 1,
   "metadata": {
    "collapsed": false
   },
   "outputs": [],
   "source": [
    "%matplotlib inline\n",
    "\n",
    "import pandas as pd\n",
    "import numpy as np\n",
    "import matplotlib as plt\n",
    "import matplotlib\n",
    "import os\n",
    "from ggplot import *"
   ]
  },
  {
   "cell_type": "code",
   "execution_count": 2,
   "metadata": {
    "collapsed": false
   },
   "outputs": [
    {
     "name": "stderr",
     "output_type": "stream",
     "text": [
      "/home/dustin/Enthought/Canopy_64bit/User/lib/python2.7/site-packages/pandas/io/parsers.py:1159: DtypeWarning: Columns (7) have mixed types. Specify dtype option on import or set low_memory=False.\n",
      "  data = self._reader.read(nrows)\n"
     ]
    }
   ],
   "source": [
    "train = pd.read_csv(os.path.join('data','train.csv'), parse_dates=['Date'])\n",
    "#train = pd.read_csv(os.path.join('data','train.csv'), parse_dates=['Date'], converters = {'StateHoliday': str})\n",
    "test = pd.read_csv(os.path.join('data','test.csv'), parse_dates=['Date'])\n",
    "store = pd.read_csv(os.path.join('data','store.csv'))"
   ]
  },
  {
   "cell_type": "code",
   "execution_count": 3,
   "metadata": {
    "collapsed": false
   },
   "outputs": [
    {
     "data": {
      "text/plain": [
       "Store                     int64\n",
       "DayOfWeek                 int64\n",
       "Date             datetime64[ns]\n",
       "Sales                     int64\n",
       "Customers                 int64\n",
       "Open                      int64\n",
       "Promo                     int64\n",
       "StateHoliday             object\n",
       "SchoolHoliday             int64\n",
       "dtype: object"
      ]
     },
     "execution_count": 3,
     "metadata": {},
     "output_type": "execute_result"
    }
   ],
   "source": [
    "train.dtypes"
   ]
  },
  {
   "cell_type": "code",
   "execution_count": 4,
   "metadata": {
    "collapsed": false
   },
   "outputs": [
    {
     "data": {
      "text/plain": [
       "0    855087\n",
       "0    131072\n",
       "a     20260\n",
       "b      6690\n",
       "c      4100\n",
       "dtype: int64"
      ]
     },
     "execution_count": 4,
     "metadata": {},
     "output_type": "execute_result"
    }
   ],
   "source": [
    "# why is StateHoliday an object? => the 0 label is present as both string and numeric\n",
    "train.StateHoliday.value_counts()"
   ]
  },
  {
   "cell_type": "code",
   "execution_count": 5,
   "metadata": {
    "collapsed": true
   },
   "outputs": [],
   "source": [
    "# convert train.StateHolidy to string type\n",
    "#train.StateHoliday = \n",
    "train.StateHoliday = train.StateHoliday.astype(str)"
   ]
  },
  {
   "cell_type": "code",
   "execution_count": 6,
   "metadata": {
    "collapsed": false
   },
   "outputs": [
    {
     "data": {
      "text/plain": [
       "0    986159\n",
       "a     20260\n",
       "b      6690\n",
       "c      4100\n",
       "dtype: int64"
      ]
     },
     "execution_count": 6,
     "metadata": {},
     "output_type": "execute_result"
    }
   ],
   "source": [
    "train.StateHoliday.value_counts()"
   ]
  },
  {
   "cell_type": "code",
   "execution_count": 7,
   "metadata": {
    "collapsed": false
   },
   "outputs": [
    {
     "data": {
      "text/html": [
       "<div style=\"max-height:1000px;max-width:1500px;overflow:auto;\">\n",
       "<table border=\"1\" class=\"dataframe\">\n",
       "  <thead>\n",
       "    <tr style=\"text-align: right;\">\n",
       "      <th></th>\n",
       "      <th>Store</th>\n",
       "      <th>DayOfWeek</th>\n",
       "      <th>Date</th>\n",
       "      <th>Sales</th>\n",
       "      <th>Customers</th>\n",
       "      <th>Open</th>\n",
       "      <th>Promo</th>\n",
       "      <th>StateHoliday</th>\n",
       "      <th>SchoolHoliday</th>\n",
       "    </tr>\n",
       "  </thead>\n",
       "  <tbody>\n",
       "    <tr>\n",
       "      <th>0</th>\n",
       "      <td> 1</td>\n",
       "      <td> 5</td>\n",
       "      <td>2015-07-31</td>\n",
       "      <td>  5263</td>\n",
       "      <td>  555</td>\n",
       "      <td> 1</td>\n",
       "      <td> 1</td>\n",
       "      <td> 0</td>\n",
       "      <td> 1</td>\n",
       "    </tr>\n",
       "    <tr>\n",
       "      <th>1</th>\n",
       "      <td> 2</td>\n",
       "      <td> 5</td>\n",
       "      <td>2015-07-31</td>\n",
       "      <td>  6064</td>\n",
       "      <td>  625</td>\n",
       "      <td> 1</td>\n",
       "      <td> 1</td>\n",
       "      <td> 0</td>\n",
       "      <td> 1</td>\n",
       "    </tr>\n",
       "    <tr>\n",
       "      <th>2</th>\n",
       "      <td> 3</td>\n",
       "      <td> 5</td>\n",
       "      <td>2015-07-31</td>\n",
       "      <td>  8314</td>\n",
       "      <td>  821</td>\n",
       "      <td> 1</td>\n",
       "      <td> 1</td>\n",
       "      <td> 0</td>\n",
       "      <td> 1</td>\n",
       "    </tr>\n",
       "    <tr>\n",
       "      <th>3</th>\n",
       "      <td> 4</td>\n",
       "      <td> 5</td>\n",
       "      <td>2015-07-31</td>\n",
       "      <td> 13995</td>\n",
       "      <td> 1498</td>\n",
       "      <td> 1</td>\n",
       "      <td> 1</td>\n",
       "      <td> 0</td>\n",
       "      <td> 1</td>\n",
       "    </tr>\n",
       "    <tr>\n",
       "      <th>4</th>\n",
       "      <td> 5</td>\n",
       "      <td> 5</td>\n",
       "      <td>2015-07-31</td>\n",
       "      <td>  4822</td>\n",
       "      <td>  559</td>\n",
       "      <td> 1</td>\n",
       "      <td> 1</td>\n",
       "      <td> 0</td>\n",
       "      <td> 1</td>\n",
       "    </tr>\n",
       "  </tbody>\n",
       "</table>\n",
       "</div>"
      ],
      "text/plain": [
       "   Store  DayOfWeek       Date  Sales  Customers  Open  Promo StateHoliday  \\\n",
       "0      1          5 2015-07-31   5263        555     1      1            0   \n",
       "1      2          5 2015-07-31   6064        625     1      1            0   \n",
       "2      3          5 2015-07-31   8314        821     1      1            0   \n",
       "3      4          5 2015-07-31  13995       1498     1      1            0   \n",
       "4      5          5 2015-07-31   4822        559     1      1            0   \n",
       "\n",
       "   SchoolHoliday  \n",
       "0              1  \n",
       "1              1  \n",
       "2              1  \n",
       "3              1  \n",
       "4              1  "
      ]
     },
     "execution_count": 7,
     "metadata": {},
     "output_type": "execute_result"
    }
   ],
   "source": [
    "train.head()"
   ]
  },
  {
   "cell_type": "code",
   "execution_count": 8,
   "metadata": {
    "collapsed": false
   },
   "outputs": [
    {
     "data": {
      "text/plain": [
       "array([   1,    2,    3, ..., 1113, 1114, 1115])"
      ]
     },
     "execution_count": 8,
     "metadata": {},
     "output_type": "execute_result"
    }
   ],
   "source": [
    "pd.unique(train.Store)"
   ]
  },
  {
   "cell_type": "code",
   "execution_count": 9,
   "metadata": {
    "collapsed": false
   },
   "outputs": [
    {
     "data": {
      "text/html": [
       "<div style=\"max-height:1000px;max-width:1500px;overflow:auto;\">\n",
       "<table border=\"1\" class=\"dataframe\">\n",
       "  <thead>\n",
       "    <tr style=\"text-align: right;\">\n",
       "      <th></th>\n",
       "      <th>Id</th>\n",
       "      <th>Store</th>\n",
       "      <th>DayOfWeek</th>\n",
       "      <th>Date</th>\n",
       "      <th>Open</th>\n",
       "      <th>Promo</th>\n",
       "      <th>StateHoliday</th>\n",
       "      <th>SchoolHoliday</th>\n",
       "    </tr>\n",
       "  </thead>\n",
       "  <tbody>\n",
       "    <tr>\n",
       "      <th>0</th>\n",
       "      <td> 1</td>\n",
       "      <td> 1</td>\n",
       "      <td> 4</td>\n",
       "      <td>2015-09-17</td>\n",
       "      <td> 1</td>\n",
       "      <td> 1</td>\n",
       "      <td> 0</td>\n",
       "      <td> 0</td>\n",
       "    </tr>\n",
       "    <tr>\n",
       "      <th>1</th>\n",
       "      <td> 2</td>\n",
       "      <td> 3</td>\n",
       "      <td> 4</td>\n",
       "      <td>2015-09-17</td>\n",
       "      <td> 1</td>\n",
       "      <td> 1</td>\n",
       "      <td> 0</td>\n",
       "      <td> 0</td>\n",
       "    </tr>\n",
       "    <tr>\n",
       "      <th>2</th>\n",
       "      <td> 3</td>\n",
       "      <td> 7</td>\n",
       "      <td> 4</td>\n",
       "      <td>2015-09-17</td>\n",
       "      <td> 1</td>\n",
       "      <td> 1</td>\n",
       "      <td> 0</td>\n",
       "      <td> 0</td>\n",
       "    </tr>\n",
       "    <tr>\n",
       "      <th>3</th>\n",
       "      <td> 4</td>\n",
       "      <td> 8</td>\n",
       "      <td> 4</td>\n",
       "      <td>2015-09-17</td>\n",
       "      <td> 1</td>\n",
       "      <td> 1</td>\n",
       "      <td> 0</td>\n",
       "      <td> 0</td>\n",
       "    </tr>\n",
       "    <tr>\n",
       "      <th>4</th>\n",
       "      <td> 5</td>\n",
       "      <td> 9</td>\n",
       "      <td> 4</td>\n",
       "      <td>2015-09-17</td>\n",
       "      <td> 1</td>\n",
       "      <td> 1</td>\n",
       "      <td> 0</td>\n",
       "      <td> 0</td>\n",
       "    </tr>\n",
       "  </tbody>\n",
       "</table>\n",
       "</div>"
      ],
      "text/plain": [
       "   Id  Store  DayOfWeek       Date  Open  Promo StateHoliday  SchoolHoliday\n",
       "0   1      1          4 2015-09-17     1      1            0              0\n",
       "1   2      3          4 2015-09-17     1      1            0              0\n",
       "2   3      7          4 2015-09-17     1      1            0              0\n",
       "3   4      8          4 2015-09-17     1      1            0              0\n",
       "4   5      9          4 2015-09-17     1      1            0              0"
      ]
     },
     "execution_count": 9,
     "metadata": {},
     "output_type": "execute_result"
    }
   ],
   "source": [
    "test.head()"
   ]
  },
  {
   "cell_type": "code",
   "execution_count": 10,
   "metadata": {
    "collapsed": false
   },
   "outputs": [
    {
     "data": {
      "text/plain": [
       "Store            0\n",
       "DayOfWeek        0\n",
       "Date             0\n",
       "Sales            0\n",
       "Customers        0\n",
       "Open             0\n",
       "Promo            0\n",
       "StateHoliday     0\n",
       "SchoolHoliday    0\n",
       "dtype: int64"
      ]
     },
     "execution_count": 10,
     "metadata": {},
     "output_type": "execute_result"
    }
   ],
   "source": [
    "train.isnull().sum()"
   ]
  },
  {
   "cell_type": "code",
   "execution_count": 11,
   "metadata": {
    "collapsed": false
   },
   "outputs": [
    {
     "data": {
      "text/plain": [
       "0.16989330609540418"
      ]
     },
     "execution_count": 11,
     "metadata": {},
     "output_type": "execute_result"
    }
   ],
   "source": [
    "# How many rows in the test set have Open == 0?\n",
    "len(train[train.Open == 0].index)\n",
    "\n",
    "# percentage of test set with Open == 0\n",
    "len((train[train.Open == 0].index))/float(len(train.index))"
   ]
  },
  {
   "cell_type": "code",
   "execution_count": 12,
   "metadata": {
    "collapsed": false
   },
   "outputs": [
    {
     "data": {
      "text/plain": [
       "Id                0\n",
       "Store             0\n",
       "DayOfWeek         0\n",
       "Date              0\n",
       "Open             11\n",
       "Promo             0\n",
       "StateHoliday      0\n",
       "SchoolHoliday     0\n",
       "dtype: int64"
      ]
     },
     "execution_count": 12,
     "metadata": {},
     "output_type": "execute_result"
    }
   ],
   "source": [
    "test.isnull().sum()"
   ]
  },
  {
   "cell_type": "code",
   "execution_count": 13,
   "metadata": {
    "collapsed": false
   },
   "outputs": [
    {
     "data": {
      "text/html": [
       "<div style=\"max-height:1000px;max-width:1500px;overflow:auto;\">\n",
       "<table border=\"1\" class=\"dataframe\">\n",
       "  <thead>\n",
       "    <tr style=\"text-align: right;\">\n",
       "      <th></th>\n",
       "      <th>Id</th>\n",
       "      <th>Store</th>\n",
       "      <th>DayOfWeek</th>\n",
       "      <th>Date</th>\n",
       "      <th>Open</th>\n",
       "      <th>Promo</th>\n",
       "      <th>StateHoliday</th>\n",
       "      <th>SchoolHoliday</th>\n",
       "    </tr>\n",
       "  </thead>\n",
       "  <tbody>\n",
       "    <tr>\n",
       "      <th>479  </th>\n",
       "      <td>   480</td>\n",
       "      <td> 622</td>\n",
       "      <td> 4</td>\n",
       "      <td>2015-09-17</td>\n",
       "      <td>NaN</td>\n",
       "      <td> 1</td>\n",
       "      <td> 0</td>\n",
       "      <td> 0</td>\n",
       "    </tr>\n",
       "    <tr>\n",
       "      <th>1335 </th>\n",
       "      <td>  1336</td>\n",
       "      <td> 622</td>\n",
       "      <td> 3</td>\n",
       "      <td>2015-09-16</td>\n",
       "      <td>NaN</td>\n",
       "      <td> 1</td>\n",
       "      <td> 0</td>\n",
       "      <td> 0</td>\n",
       "    </tr>\n",
       "    <tr>\n",
       "      <th>2191 </th>\n",
       "      <td>  2192</td>\n",
       "      <td> 622</td>\n",
       "      <td> 2</td>\n",
       "      <td>2015-09-15</td>\n",
       "      <td>NaN</td>\n",
       "      <td> 1</td>\n",
       "      <td> 0</td>\n",
       "      <td> 0</td>\n",
       "    </tr>\n",
       "    <tr>\n",
       "      <th>3047 </th>\n",
       "      <td>  3048</td>\n",
       "      <td> 622</td>\n",
       "      <td> 1</td>\n",
       "      <td>2015-09-14</td>\n",
       "      <td>NaN</td>\n",
       "      <td> 1</td>\n",
       "      <td> 0</td>\n",
       "      <td> 0</td>\n",
       "    </tr>\n",
       "    <tr>\n",
       "      <th>4759 </th>\n",
       "      <td>  4760</td>\n",
       "      <td> 622</td>\n",
       "      <td> 6</td>\n",
       "      <td>2015-09-12</td>\n",
       "      <td>NaN</td>\n",
       "      <td> 0</td>\n",
       "      <td> 0</td>\n",
       "      <td> 0</td>\n",
       "    </tr>\n",
       "    <tr>\n",
       "      <th>5615 </th>\n",
       "      <td>  5616</td>\n",
       "      <td> 622</td>\n",
       "      <td> 5</td>\n",
       "      <td>2015-09-11</td>\n",
       "      <td>NaN</td>\n",
       "      <td> 0</td>\n",
       "      <td> 0</td>\n",
       "      <td> 0</td>\n",
       "    </tr>\n",
       "    <tr>\n",
       "      <th>6471 </th>\n",
       "      <td>  6472</td>\n",
       "      <td> 622</td>\n",
       "      <td> 4</td>\n",
       "      <td>2015-09-10</td>\n",
       "      <td>NaN</td>\n",
       "      <td> 0</td>\n",
       "      <td> 0</td>\n",
       "      <td> 0</td>\n",
       "    </tr>\n",
       "    <tr>\n",
       "      <th>7327 </th>\n",
       "      <td>  7328</td>\n",
       "      <td> 622</td>\n",
       "      <td> 3</td>\n",
       "      <td>2015-09-09</td>\n",
       "      <td>NaN</td>\n",
       "      <td> 0</td>\n",
       "      <td> 0</td>\n",
       "      <td> 0</td>\n",
       "    </tr>\n",
       "    <tr>\n",
       "      <th>8183 </th>\n",
       "      <td>  8184</td>\n",
       "      <td> 622</td>\n",
       "      <td> 2</td>\n",
       "      <td>2015-09-08</td>\n",
       "      <td>NaN</td>\n",
       "      <td> 0</td>\n",
       "      <td> 0</td>\n",
       "      <td> 0</td>\n",
       "    </tr>\n",
       "    <tr>\n",
       "      <th>9039 </th>\n",
       "      <td>  9040</td>\n",
       "      <td> 622</td>\n",
       "      <td> 1</td>\n",
       "      <td>2015-09-07</td>\n",
       "      <td>NaN</td>\n",
       "      <td> 0</td>\n",
       "      <td> 0</td>\n",
       "      <td> 0</td>\n",
       "    </tr>\n",
       "    <tr>\n",
       "      <th>10751</th>\n",
       "      <td> 10752</td>\n",
       "      <td> 622</td>\n",
       "      <td> 6</td>\n",
       "      <td>2015-09-05</td>\n",
       "      <td>NaN</td>\n",
       "      <td> 0</td>\n",
       "      <td> 0</td>\n",
       "      <td> 0</td>\n",
       "    </tr>\n",
       "  </tbody>\n",
       "</table>\n",
       "</div>"
      ],
      "text/plain": [
       "          Id  Store  DayOfWeek       Date  Open  Promo StateHoliday  \\\n",
       "479      480    622          4 2015-09-17   NaN      1            0   \n",
       "1335    1336    622          3 2015-09-16   NaN      1            0   \n",
       "2191    2192    622          2 2015-09-15   NaN      1            0   \n",
       "3047    3048    622          1 2015-09-14   NaN      1            0   \n",
       "4759    4760    622          6 2015-09-12   NaN      0            0   \n",
       "5615    5616    622          5 2015-09-11   NaN      0            0   \n",
       "6471    6472    622          4 2015-09-10   NaN      0            0   \n",
       "7327    7328    622          3 2015-09-09   NaN      0            0   \n",
       "8183    8184    622          2 2015-09-08   NaN      0            0   \n",
       "9039    9040    622          1 2015-09-07   NaN      0            0   \n",
       "10751  10752    622          6 2015-09-05   NaN      0            0   \n",
       "\n",
       "       SchoolHoliday  \n",
       "479                0  \n",
       "1335               0  \n",
       "2191               0  \n",
       "3047               0  \n",
       "4759               0  \n",
       "5615               0  \n",
       "6471               0  \n",
       "7327               0  \n",
       "8183               0  \n",
       "9039               0  \n",
       "10751              0  "
      ]
     },
     "execution_count": 13,
     "metadata": {},
     "output_type": "execute_result"
    }
   ],
   "source": [
    "# which stores have open == NA\n",
    "test[test.Open.isnull()]"
   ]
  },
  {
   "cell_type": "markdown",
   "metadata": {},
   "source": [
    "Competition admin Florian Knauer says the missing Open values for store 622 should be 0: https://www.kaggle.com/c/rossmann-store-sales/forums/t/17048/putting-stores-on-the-map?page=2."
   ]
  },
  {
   "cell_type": "markdown",
   "metadata": {},
   "source": [
    "14.5% of the test set have Open == 0, which are not counted in the loss."
   ]
  },
  {
   "cell_type": "code",
   "execution_count": 14,
   "metadata": {
    "collapsed": false
   },
   "outputs": [
    {
     "data": {
      "text/plain": [
       "0.14563862928348908"
      ]
     },
     "execution_count": 14,
     "metadata": {},
     "output_type": "execute_result"
    }
   ],
   "source": [
    "# How many rows in the test set have Open == 0?\n",
    "len(test[test.Open == 0].index)\n",
    "\n",
    "# percentage of test set with Open == 0\n",
    "len((test[test.Open == 0].index))/float(len(test.index))"
   ]
  },
  {
   "cell_type": "code",
   "execution_count": 15,
   "metadata": {
    "collapsed": false
   },
   "outputs": [
    {
     "data": {
      "text/plain": [
       "True"
      ]
     },
     "execution_count": 15,
     "metadata": {},
     "output_type": "execute_result"
    }
   ],
   "source": [
    "# are all stores in the test set also in the train set?\n",
    "set(pd.unique(test.Store)) <= set(pd.unique(train.Store))"
   ]
  },
  {
   "cell_type": "code",
   "execution_count": 16,
   "metadata": {
    "collapsed": false
   },
   "outputs": [
    {
     "data": {
      "text/plain": [
       "False"
      ]
     },
     "execution_count": 16,
     "metadata": {},
     "output_type": "execute_result"
    }
   ],
   "source": [
    "# are all stores in the train set also in the test set?\n",
    "set(pd.unique(train.Store)) <= set(pd.unique(test.Store))"
   ]
  },
  {
   "cell_type": "code",
   "execution_count": 17,
   "metadata": {
    "collapsed": false
   },
   "outputs": [
    {
     "data": {
      "text/plain": [
       "259"
      ]
     },
     "execution_count": 17,
     "metadata": {},
     "output_type": "execute_result"
    }
   ],
   "source": [
    "# how many stores in train are not in test?\n",
    "len(set(pd.unique(train.Store)) - set(pd.unique(test.Store)))"
   ]
  },
  {
   "cell_type": "code",
   "execution_count": 18,
   "metadata": {
    "collapsed": false
   },
   "outputs": [
    {
     "data": {
      "text/html": [
       "<div style=\"max-height:1000px;max-width:1500px;overflow:auto;\">\n",
       "<table border=\"1\" class=\"dataframe\">\n",
       "  <thead>\n",
       "    <tr style=\"text-align: right;\">\n",
       "      <th></th>\n",
       "      <th>Store</th>\n",
       "      <th>StoreType</th>\n",
       "      <th>Assortment</th>\n",
       "      <th>CompetitionDistance</th>\n",
       "      <th>CompetitionOpenSinceMonth</th>\n",
       "      <th>CompetitionOpenSinceYear</th>\n",
       "      <th>Promo2</th>\n",
       "      <th>Promo2SinceWeek</th>\n",
       "      <th>Promo2SinceYear</th>\n",
       "      <th>PromoInterval</th>\n",
       "    </tr>\n",
       "  </thead>\n",
       "  <tbody>\n",
       "    <tr>\n",
       "      <th>0</th>\n",
       "      <td> 1</td>\n",
       "      <td> c</td>\n",
       "      <td> a</td>\n",
       "      <td>  1270</td>\n",
       "      <td>  9</td>\n",
       "      <td> 2008</td>\n",
       "      <td> 0</td>\n",
       "      <td>NaN</td>\n",
       "      <td>  NaN</td>\n",
       "      <td>             NaN</td>\n",
       "    </tr>\n",
       "    <tr>\n",
       "      <th>1</th>\n",
       "      <td> 2</td>\n",
       "      <td> a</td>\n",
       "      <td> a</td>\n",
       "      <td>   570</td>\n",
       "      <td> 11</td>\n",
       "      <td> 2007</td>\n",
       "      <td> 1</td>\n",
       "      <td> 13</td>\n",
       "      <td> 2010</td>\n",
       "      <td> Jan,Apr,Jul,Oct</td>\n",
       "    </tr>\n",
       "    <tr>\n",
       "      <th>2</th>\n",
       "      <td> 3</td>\n",
       "      <td> a</td>\n",
       "      <td> a</td>\n",
       "      <td> 14130</td>\n",
       "      <td> 12</td>\n",
       "      <td> 2006</td>\n",
       "      <td> 1</td>\n",
       "      <td> 14</td>\n",
       "      <td> 2011</td>\n",
       "      <td> Jan,Apr,Jul,Oct</td>\n",
       "    </tr>\n",
       "    <tr>\n",
       "      <th>3</th>\n",
       "      <td> 4</td>\n",
       "      <td> c</td>\n",
       "      <td> c</td>\n",
       "      <td>   620</td>\n",
       "      <td>  9</td>\n",
       "      <td> 2009</td>\n",
       "      <td> 0</td>\n",
       "      <td>NaN</td>\n",
       "      <td>  NaN</td>\n",
       "      <td>             NaN</td>\n",
       "    </tr>\n",
       "    <tr>\n",
       "      <th>4</th>\n",
       "      <td> 5</td>\n",
       "      <td> a</td>\n",
       "      <td> a</td>\n",
       "      <td> 29910</td>\n",
       "      <td>  4</td>\n",
       "      <td> 2015</td>\n",
       "      <td> 0</td>\n",
       "      <td>NaN</td>\n",
       "      <td>  NaN</td>\n",
       "      <td>             NaN</td>\n",
       "    </tr>\n",
       "  </tbody>\n",
       "</table>\n",
       "</div>"
      ],
      "text/plain": [
       "   Store StoreType Assortment  CompetitionDistance  CompetitionOpenSinceMonth  \\\n",
       "0      1         c          a                 1270                          9   \n",
       "1      2         a          a                  570                         11   \n",
       "2      3         a          a                14130                         12   \n",
       "3      4         c          c                  620                          9   \n",
       "4      5         a          a                29910                          4   \n",
       "\n",
       "   CompetitionOpenSinceYear  Promo2  Promo2SinceWeek  Promo2SinceYear  \\\n",
       "0                      2008       0              NaN              NaN   \n",
       "1                      2007       1               13             2010   \n",
       "2                      2006       1               14             2011   \n",
       "3                      2009       0              NaN              NaN   \n",
       "4                      2015       0              NaN              NaN   \n",
       "\n",
       "     PromoInterval  \n",
       "0              NaN  \n",
       "1  Jan,Apr,Jul,Oct  \n",
       "2  Jan,Apr,Jul,Oct  \n",
       "3              NaN  \n",
       "4              NaN  "
      ]
     },
     "execution_count": 18,
     "metadata": {},
     "output_type": "execute_result"
    }
   ],
   "source": [
    "store.head()"
   ]
  },
  {
   "cell_type": "code",
   "execution_count": 19,
   "metadata": {
    "collapsed": false
   },
   "outputs": [
    {
     "data": {
      "text/html": [
       "<div style=\"max-height:1000px;max-width:1500px;overflow:auto;\">\n",
       "<table border=\"1\" class=\"dataframe\">\n",
       "  <thead>\n",
       "    <tr style=\"text-align: right;\">\n",
       "      <th></th>\n",
       "      <th>Store</th>\n",
       "      <th>DayOfWeek</th>\n",
       "      <th>Sales</th>\n",
       "      <th>Customers</th>\n",
       "      <th>Open</th>\n",
       "      <th>Promo</th>\n",
       "      <th>SchoolHoliday</th>\n",
       "    </tr>\n",
       "  </thead>\n",
       "  <tbody>\n",
       "    <tr>\n",
       "      <th>count</th>\n",
       "      <td> 1017209.000000</td>\n",
       "      <td> 1017209.000000</td>\n",
       "      <td> 1017209.000000</td>\n",
       "      <td> 1017209.000000</td>\n",
       "      <td> 1017209.000000</td>\n",
       "      <td> 1017209.000000</td>\n",
       "      <td> 1017209.000000</td>\n",
       "    </tr>\n",
       "    <tr>\n",
       "      <th>mean</th>\n",
       "      <td>     558.429727</td>\n",
       "      <td>       3.998341</td>\n",
       "      <td>    5773.818972</td>\n",
       "      <td>     633.145946</td>\n",
       "      <td>       0.830107</td>\n",
       "      <td>       0.381515</td>\n",
       "      <td>       0.178647</td>\n",
       "    </tr>\n",
       "    <tr>\n",
       "      <th>std</th>\n",
       "      <td>     321.908651</td>\n",
       "      <td>       1.997391</td>\n",
       "      <td>    3849.926175</td>\n",
       "      <td>     464.411734</td>\n",
       "      <td>       0.375539</td>\n",
       "      <td>       0.485759</td>\n",
       "      <td>       0.383056</td>\n",
       "    </tr>\n",
       "    <tr>\n",
       "      <th>min</th>\n",
       "      <td>       1.000000</td>\n",
       "      <td>       1.000000</td>\n",
       "      <td>       0.000000</td>\n",
       "      <td>       0.000000</td>\n",
       "      <td>       0.000000</td>\n",
       "      <td>       0.000000</td>\n",
       "      <td>       0.000000</td>\n",
       "    </tr>\n",
       "    <tr>\n",
       "      <th>25%</th>\n",
       "      <td>     280.000000</td>\n",
       "      <td>       2.000000</td>\n",
       "      <td>    3727.000000</td>\n",
       "      <td>     405.000000</td>\n",
       "      <td>       1.000000</td>\n",
       "      <td>       0.000000</td>\n",
       "      <td>       0.000000</td>\n",
       "    </tr>\n",
       "    <tr>\n",
       "      <th>50%</th>\n",
       "      <td>     558.000000</td>\n",
       "      <td>       4.000000</td>\n",
       "      <td>    5744.000000</td>\n",
       "      <td>     609.000000</td>\n",
       "      <td>       1.000000</td>\n",
       "      <td>       0.000000</td>\n",
       "      <td>       0.000000</td>\n",
       "    </tr>\n",
       "    <tr>\n",
       "      <th>75%</th>\n",
       "      <td>     838.000000</td>\n",
       "      <td>       6.000000</td>\n",
       "      <td>    7856.000000</td>\n",
       "      <td>     837.000000</td>\n",
       "      <td>       1.000000</td>\n",
       "      <td>       1.000000</td>\n",
       "      <td>       0.000000</td>\n",
       "    </tr>\n",
       "    <tr>\n",
       "      <th>max</th>\n",
       "      <td>    1115.000000</td>\n",
       "      <td>       7.000000</td>\n",
       "      <td>   41551.000000</td>\n",
       "      <td>    7388.000000</td>\n",
       "      <td>       1.000000</td>\n",
       "      <td>       1.000000</td>\n",
       "      <td>       1.000000</td>\n",
       "    </tr>\n",
       "  </tbody>\n",
       "</table>\n",
       "</div>"
      ],
      "text/plain": [
       "                Store       DayOfWeek           Sales       Customers  \\\n",
       "count  1017209.000000  1017209.000000  1017209.000000  1017209.000000   \n",
       "mean       558.429727        3.998341     5773.818972      633.145946   \n",
       "std        321.908651        1.997391     3849.926175      464.411734   \n",
       "min          1.000000        1.000000        0.000000        0.000000   \n",
       "25%        280.000000        2.000000     3727.000000      405.000000   \n",
       "50%        558.000000        4.000000     5744.000000      609.000000   \n",
       "75%        838.000000        6.000000     7856.000000      837.000000   \n",
       "max       1115.000000        7.000000    41551.000000     7388.000000   \n",
       "\n",
       "                 Open           Promo   SchoolHoliday  \n",
       "count  1017209.000000  1017209.000000  1017209.000000  \n",
       "mean         0.830107        0.381515        0.178647  \n",
       "std          0.375539        0.485759        0.383056  \n",
       "min          0.000000        0.000000        0.000000  \n",
       "25%          1.000000        0.000000        0.000000  \n",
       "50%          1.000000        0.000000        0.000000  \n",
       "75%          1.000000        1.000000        0.000000  \n",
       "max          1.000000        1.000000        1.000000  "
      ]
     },
     "execution_count": 19,
     "metadata": {},
     "output_type": "execute_result"
    }
   ],
   "source": [
    "train.describe()"
   ]
  },
  {
   "cell_type": "code",
   "execution_count": 20,
   "metadata": {
    "collapsed": false
   },
   "outputs": [
    {
     "name": "stdout",
     "output_type": "stream",
     "text": [
      "earliest training date: 2013-01-01 00:00:00\n",
      "latest training date: 2015-07-31 00:00:00\n"
     ]
    }
   ],
   "source": [
    "print 'earliest training date: {0}'.format(min(train.Date))\n",
    "print 'latest training date: {0}'.format(max(train.Date))"
   ]
  },
  {
   "cell_type": "code",
   "execution_count": 21,
   "metadata": {
    "collapsed": false
   },
   "outputs": [
    {
     "data": {
      "text/html": [
       "<div style=\"max-height:1000px;max-width:1500px;overflow:auto;\">\n",
       "<table border=\"1\" class=\"dataframe\">\n",
       "  <thead>\n",
       "    <tr style=\"text-align: right;\">\n",
       "      <th></th>\n",
       "      <th>Id</th>\n",
       "      <th>Store</th>\n",
       "      <th>DayOfWeek</th>\n",
       "      <th>Open</th>\n",
       "      <th>Promo</th>\n",
       "      <th>SchoolHoliday</th>\n",
       "    </tr>\n",
       "  </thead>\n",
       "  <tbody>\n",
       "    <tr>\n",
       "      <th>count</th>\n",
       "      <td> 41088.000000</td>\n",
       "      <td> 41088.000000</td>\n",
       "      <td> 41088.000000</td>\n",
       "      <td> 41077.000000</td>\n",
       "      <td> 41088.000000</td>\n",
       "      <td> 41088.000000</td>\n",
       "    </tr>\n",
       "    <tr>\n",
       "      <th>mean</th>\n",
       "      <td> 20544.500000</td>\n",
       "      <td>   555.899533</td>\n",
       "      <td>     3.979167</td>\n",
       "      <td>     0.854322</td>\n",
       "      <td>     0.395833</td>\n",
       "      <td>     0.443487</td>\n",
       "    </tr>\n",
       "    <tr>\n",
       "      <th>std</th>\n",
       "      <td> 11861.228267</td>\n",
       "      <td>   320.274496</td>\n",
       "      <td>     2.015481</td>\n",
       "      <td>     0.352787</td>\n",
       "      <td>     0.489035</td>\n",
       "      <td>     0.496802</td>\n",
       "    </tr>\n",
       "    <tr>\n",
       "      <th>min</th>\n",
       "      <td>     1.000000</td>\n",
       "      <td>     1.000000</td>\n",
       "      <td>     1.000000</td>\n",
       "      <td>     0.000000</td>\n",
       "      <td>     0.000000</td>\n",
       "      <td>     0.000000</td>\n",
       "    </tr>\n",
       "    <tr>\n",
       "      <th>25%</th>\n",
       "      <td> 10272.750000</td>\n",
       "      <td>   279.750000</td>\n",
       "      <td>     2.000000</td>\n",
       "      <td>     1.000000</td>\n",
       "      <td>     0.000000</td>\n",
       "      <td>     0.000000</td>\n",
       "    </tr>\n",
       "    <tr>\n",
       "      <th>50%</th>\n",
       "      <td> 20544.500000</td>\n",
       "      <td>   553.500000</td>\n",
       "      <td>     4.000000</td>\n",
       "      <td>     1.000000</td>\n",
       "      <td>     0.000000</td>\n",
       "      <td>     0.000000</td>\n",
       "    </tr>\n",
       "    <tr>\n",
       "      <th>75%</th>\n",
       "      <td> 30816.250000</td>\n",
       "      <td>   832.250000</td>\n",
       "      <td>     6.000000</td>\n",
       "      <td>     1.000000</td>\n",
       "      <td>     1.000000</td>\n",
       "      <td>     1.000000</td>\n",
       "    </tr>\n",
       "    <tr>\n",
       "      <th>max</th>\n",
       "      <td> 41088.000000</td>\n",
       "      <td>  1115.000000</td>\n",
       "      <td>     7.000000</td>\n",
       "      <td>     1.000000</td>\n",
       "      <td>     1.000000</td>\n",
       "      <td>     1.000000</td>\n",
       "    </tr>\n",
       "  </tbody>\n",
       "</table>\n",
       "</div>"
      ],
      "text/plain": [
       "                 Id         Store     DayOfWeek          Open         Promo  \\\n",
       "count  41088.000000  41088.000000  41088.000000  41077.000000  41088.000000   \n",
       "mean   20544.500000    555.899533      3.979167      0.854322      0.395833   \n",
       "std    11861.228267    320.274496      2.015481      0.352787      0.489035   \n",
       "min        1.000000      1.000000      1.000000      0.000000      0.000000   \n",
       "25%    10272.750000    279.750000      2.000000      1.000000      0.000000   \n",
       "50%    20544.500000    553.500000      4.000000      1.000000      0.000000   \n",
       "75%    30816.250000    832.250000      6.000000      1.000000      1.000000   \n",
       "max    41088.000000   1115.000000      7.000000      1.000000      1.000000   \n",
       "\n",
       "       SchoolHoliday  \n",
       "count   41088.000000  \n",
       "mean        0.443487  \n",
       "std         0.496802  \n",
       "min         0.000000  \n",
       "25%         0.000000  \n",
       "50%         0.000000  \n",
       "75%         1.000000  \n",
       "max         1.000000  "
      ]
     },
     "execution_count": 21,
     "metadata": {},
     "output_type": "execute_result"
    }
   ],
   "source": [
    "test.describe()"
   ]
  },
  {
   "cell_type": "code",
   "execution_count": 22,
   "metadata": {
    "collapsed": false
   },
   "outputs": [
    {
     "name": "stdout",
     "output_type": "stream",
     "text": [
      "earliest test date: 2015-08-01 00:00:00\n",
      "latest test date: 2015-09-17 00:00:00\n"
     ]
    }
   ],
   "source": [
    "print 'earliest test date: {0}'.format(min(test.Date))\n",
    "print 'latest test date: {0}'.format(max(test.Date))"
   ]
  },
  {
   "cell_type": "code",
   "execution_count": 23,
   "metadata": {
    "collapsed": false
   },
   "outputs": [
    {
     "data": {
      "text/html": [
       "<div style=\"max-height:1000px;max-width:1500px;overflow:auto;\">\n",
       "<table border=\"1\" class=\"dataframe\">\n",
       "  <thead>\n",
       "    <tr style=\"text-align: right;\">\n",
       "      <th></th>\n",
       "      <th>Store</th>\n",
       "      <th>CompetitionDistance</th>\n",
       "      <th>CompetitionOpenSinceMonth</th>\n",
       "      <th>CompetitionOpenSinceYear</th>\n",
       "      <th>Promo2</th>\n",
       "      <th>Promo2SinceWeek</th>\n",
       "      <th>Promo2SinceYear</th>\n",
       "    </tr>\n",
       "  </thead>\n",
       "  <tbody>\n",
       "    <tr>\n",
       "      <th>count</th>\n",
       "      <td> 1115.00000</td>\n",
       "      <td>  1112.000000</td>\n",
       "      <td> 761.000000</td>\n",
       "      <td>  761.000000</td>\n",
       "      <td> 1115.000000</td>\n",
       "      <td> 571.000000</td>\n",
       "      <td>  571.000000</td>\n",
       "    </tr>\n",
       "    <tr>\n",
       "      <th>mean</th>\n",
       "      <td>  558.00000</td>\n",
       "      <td>  5404.901079</td>\n",
       "      <td>   7.224704</td>\n",
       "      <td> 2008.668857</td>\n",
       "      <td>    0.512108</td>\n",
       "      <td>  23.595447</td>\n",
       "      <td> 2011.763573</td>\n",
       "    </tr>\n",
       "    <tr>\n",
       "      <th>std</th>\n",
       "      <td>  322.01708</td>\n",
       "      <td>  7663.174720</td>\n",
       "      <td>   3.212348</td>\n",
       "      <td>    6.195983</td>\n",
       "      <td>    0.500078</td>\n",
       "      <td>  14.141984</td>\n",
       "      <td>    1.674935</td>\n",
       "    </tr>\n",
       "    <tr>\n",
       "      <th>min</th>\n",
       "      <td>    1.00000</td>\n",
       "      <td>    20.000000</td>\n",
       "      <td>   1.000000</td>\n",
       "      <td> 1900.000000</td>\n",
       "      <td>    0.000000</td>\n",
       "      <td>   1.000000</td>\n",
       "      <td> 2009.000000</td>\n",
       "    </tr>\n",
       "    <tr>\n",
       "      <th>25%</th>\n",
       "      <td>  279.50000</td>\n",
       "      <td>   717.500000</td>\n",
       "      <td>   4.000000</td>\n",
       "      <td> 2006.000000</td>\n",
       "      <td>    0.000000</td>\n",
       "      <td>  13.000000</td>\n",
       "      <td> 2011.000000</td>\n",
       "    </tr>\n",
       "    <tr>\n",
       "      <th>50%</th>\n",
       "      <td>  558.00000</td>\n",
       "      <td>  2325.000000</td>\n",
       "      <td>   8.000000</td>\n",
       "      <td> 2010.000000</td>\n",
       "      <td>    1.000000</td>\n",
       "      <td>  22.000000</td>\n",
       "      <td> 2012.000000</td>\n",
       "    </tr>\n",
       "    <tr>\n",
       "      <th>75%</th>\n",
       "      <td>  836.50000</td>\n",
       "      <td>  6882.500000</td>\n",
       "      <td>  10.000000</td>\n",
       "      <td> 2013.000000</td>\n",
       "      <td>    1.000000</td>\n",
       "      <td>  37.000000</td>\n",
       "      <td> 2013.000000</td>\n",
       "    </tr>\n",
       "    <tr>\n",
       "      <th>max</th>\n",
       "      <td> 1115.00000</td>\n",
       "      <td> 75860.000000</td>\n",
       "      <td>  12.000000</td>\n",
       "      <td> 2015.000000</td>\n",
       "      <td>    1.000000</td>\n",
       "      <td>  50.000000</td>\n",
       "      <td> 2015.000000</td>\n",
       "    </tr>\n",
       "  </tbody>\n",
       "</table>\n",
       "</div>"
      ],
      "text/plain": [
       "            Store  CompetitionDistance  CompetitionOpenSinceMonth  \\\n",
       "count  1115.00000          1112.000000                 761.000000   \n",
       "mean    558.00000          5404.901079                   7.224704   \n",
       "std     322.01708          7663.174720                   3.212348   \n",
       "min       1.00000            20.000000                   1.000000   \n",
       "25%     279.50000           717.500000                   4.000000   \n",
       "50%     558.00000          2325.000000                   8.000000   \n",
       "75%     836.50000          6882.500000                  10.000000   \n",
       "max    1115.00000         75860.000000                  12.000000   \n",
       "\n",
       "       CompetitionOpenSinceYear       Promo2  Promo2SinceWeek  Promo2SinceYear  \n",
       "count                761.000000  1115.000000       571.000000       571.000000  \n",
       "mean                2008.668857     0.512108        23.595447      2011.763573  \n",
       "std                    6.195983     0.500078        14.141984         1.674935  \n",
       "min                 1900.000000     0.000000         1.000000      2009.000000  \n",
       "25%                 2006.000000     0.000000        13.000000      2011.000000  \n",
       "50%                 2010.000000     1.000000        22.000000      2012.000000  \n",
       "75%                 2013.000000     1.000000        37.000000      2013.000000  \n",
       "max                 2015.000000     1.000000        50.000000      2015.000000  "
      ]
     },
     "execution_count": 23,
     "metadata": {},
     "output_type": "execute_result"
    }
   ],
   "source": [
    "store.describe()"
   ]
  },
  {
   "cell_type": "code",
   "execution_count": 24,
   "metadata": {
    "collapsed": false
   },
   "outputs": [
    {
     "data": {
      "text/plain": [
       "Store                          0\n",
       "StoreType                      0\n",
       "Assortment                     0\n",
       "CompetitionDistance            3\n",
       "CompetitionOpenSinceMonth    354\n",
       "CompetitionOpenSinceYear     354\n",
       "Promo2                         0\n",
       "Promo2SinceWeek              544\n",
       "Promo2SinceYear              544\n",
       "PromoInterval                544\n",
       "dtype: int64"
      ]
     },
     "execution_count": 24,
     "metadata": {},
     "output_type": "execute_result"
    }
   ],
   "source": [
    "store.isnull().sum()"
   ]
  },
  {
   "cell_type": "code",
   "execution_count": 25,
   "metadata": {
    "collapsed": false
   },
   "outputs": [
    {
     "data": {
      "text/plain": [
       "Store             1115\n",
       "DayOfWeek            7\n",
       "Date               942\n",
       "Sales            21734\n",
       "Customers         4086\n",
       "Open                 2\n",
       "Promo                2\n",
       "StateHoliday         4\n",
       "SchoolHoliday        2\n",
       "dtype: int64"
      ]
     },
     "execution_count": 25,
     "metadata": {},
     "output_type": "execute_result"
    }
   ],
   "source": [
    "# of unique values per column\n",
    "train.apply(lambda x: x.nunique())"
   ]
  },
  {
   "cell_type": "code",
   "execution_count": 26,
   "metadata": {
    "collapsed": false
   },
   "outputs": [
    {
     "data": {
      "text/plain": [
       "Id               41088\n",
       "Store              856\n",
       "DayOfWeek            7\n",
       "Date                48\n",
       "Open                 2\n",
       "Promo                2\n",
       "StateHoliday         2\n",
       "SchoolHoliday        2\n",
       "dtype: int64"
      ]
     },
     "execution_count": 26,
     "metadata": {},
     "output_type": "execute_result"
    }
   ],
   "source": [
    "test.apply(lambda x: x.nunique())"
   ]
  },
  {
   "cell_type": "code",
   "execution_count": 27,
   "metadata": {
    "collapsed": false
   },
   "outputs": [
    {
     "data": {
      "text/plain": [
       "0    986159\n",
       "a     20260\n",
       "b      6690\n",
       "c      4100\n",
       "dtype: int64"
      ]
     },
     "execution_count": 27,
     "metadata": {},
     "output_type": "execute_result"
    }
   ],
   "source": [
    "train.StateHoliday.value_counts()"
   ]
  },
  {
   "cell_type": "code",
   "execution_count": 28,
   "metadata": {
    "collapsed": false
   },
   "outputs": [
    {
     "data": {
      "text/plain": [
       "0    40908\n",
       "a      180\n",
       "dtype: int64"
      ]
     },
     "execution_count": 28,
     "metadata": {},
     "output_type": "execute_result"
    }
   ],
   "source": [
    "test.StateHoliday.value_counts()"
   ]
  },
  {
   "cell_type": "markdown",
   "metadata": {},
   "source": [
    "no b and c in test = no easter holiday and no christmas"
   ]
  },
  {
   "cell_type": "code",
   "execution_count": 29,
   "metadata": {
    "collapsed": false
   },
   "outputs": [
    {
     "data": {
      "text/plain": [
       "0    0.618485\n",
       "1    0.381515\n",
       "dtype: float64"
      ]
     },
     "execution_count": 29,
     "metadata": {},
     "output_type": "execute_result"
    }
   ],
   "source": [
    "# % of times in promo in train\n",
    "train.Promo.value_counts() / len(train.index)"
   ]
  },
  {
   "cell_type": "code",
   "execution_count": 30,
   "metadata": {
    "collapsed": false
   },
   "outputs": [
    {
     "data": {
      "text/plain": [
       "0    0.604167\n",
       "1    0.395833\n",
       "dtype: float64"
      ]
     },
     "execution_count": 30,
     "metadata": {},
     "output_type": "execute_result"
    }
   ],
   "source": [
    "# % promo in test\n",
    "test.Promo.value_counts() / len(test.index)"
   ]
  },
  {
   "cell_type": "code",
   "execution_count": 31,
   "metadata": {
    "collapsed": false
   },
   "outputs": [
    {
     "data": {
      "text/plain": [
       "856    48\n",
       "dtype: int64"
      ]
     },
     "execution_count": 31,
     "metadata": {},
     "output_type": "execute_result"
    }
   ],
   "source": [
    "# there are 48 dates to be predicted for each of the 856 stores in test\n",
    "test.groupby('Date').count().Id.value_counts()"
   ]
  },
  {
   "cell_type": "code",
   "execution_count": 32,
   "metadata": {
    "collapsed": false
   },
   "outputs": [
    {
     "data": {
      "text/plain": [
       "a    593\n",
       "c    513\n",
       "b      9\n",
       "dtype: int64"
      ]
     },
     "execution_count": 32,
     "metadata": {},
     "output_type": "execute_result"
    }
   ],
   "source": [
    "store.Assortment.value_counts()"
   ]
  },
  {
   "cell_type": "code",
   "execution_count": 33,
   "metadata": {
    "collapsed": false
   },
   "outputs": [
    {
     "data": {
      "text/plain": [
       "a    602\n",
       "d    348\n",
       "c    148\n",
       "b     17\n",
       "dtype: int64"
      ]
     },
     "execution_count": 33,
     "metadata": {},
     "output_type": "execute_result"
    }
   ],
   "source": [
    "store.StoreType.value_counts()"
   ]
  },
  {
   "cell_type": "markdown",
   "metadata": {},
   "source": [
    "****"
   ]
  },
  {
   "cell_type": "code",
   "execution_count": 34,
   "metadata": {
    "collapsed": false
   },
   "outputs": [
    {
     "data": {
      "text/plain": [
       "array([[<matplotlib.axes._subplots.AxesSubplot object at 0x5194d10>,\n",
       "        <matplotlib.axes._subplots.AxesSubplot object at 0x578c490>],\n",
       "       [<matplotlib.axes._subplots.AxesSubplot object at 0x576f690>,\n",
       "        <matplotlib.axes._subplots.AxesSubplot object at 0x13064b10>],\n",
       "       [<matplotlib.axes._subplots.AxesSubplot object at 0x1308db50>,\n",
       "        <matplotlib.axes._subplots.AxesSubplot object at 0x130b5550>]], dtype=object)"
      ]
     },
     "execution_count": 34,
     "metadata": {},
     "output_type": "execute_result"
    },
    {
     "data": {
      "image/png": "[encoded data removed]",
      "text/plain": [
       "<matplotlib.figure.Figure at 0x5194410>"
      ]
     },
     "metadata": {},
     "output_type": "display_data"
    }
   ],
   "source": [
    "test.hist()"
   ]
  },
  {
   "cell_type": "code",
   "execution_count": 35,
   "metadata": {
    "collapsed": false
   },
   "outputs": [
    {
     "data": {
      "text/plain": [
       "array([[<matplotlib.axes._subplots.AxesSubplot object at 0x54cf210>,\n",
       "        <matplotlib.axes._subplots.AxesSubplot object at 0x5f43150>,\n",
       "        <matplotlib.axes._subplots.AxesSubplot object at 0x60dd610>],\n",
       "       [<matplotlib.axes._subplots.AxesSubplot object at 0x5f29810>,\n",
       "        <matplotlib.axes._subplots.AxesSubplot object at 0x6279390>,\n",
       "        <matplotlib.axes._subplots.AxesSubplot object at 0x6298f90>],\n",
       "       [<matplotlib.axes._subplots.AxesSubplot object at 0x63f58d0>,\n",
       "        <matplotlib.axes._subplots.AxesSubplot object at 0x641a610>,\n",
       "        <matplotlib.axes._subplots.AxesSubplot object at 0x6574210>]], dtype=object)"
      ]
     },
     "execution_count": 35,
     "metadata": {},
     "output_type": "execute_result"
    },
    {
     "data": {
      "image/png": "[encoded data removed]",
      "text/plain": [
       "<matplotlib.figure.Figure at 0x1d03410>"
      ]
     },
     "metadata": {},
     "output_type": "display_data"
    }
   ],
   "source": [
    "train.hist()"
   ]
  },
  {
   "cell_type": "code",
   "execution_count": 50,
   "metadata": {
    "collapsed": false
   },
   "outputs": [
    {
     "data": {
      "image/png": "[encoded data removed]",
      "text/plain": [
       "<matplotlib.figure.Figure at 0x10ffe310>"
      ]
     },
     "metadata": {},
     "output_type": "display_data"
    },
    {
     "data": {
      "text/plain": [
       "<ggplot: (6457117)>"
      ]
     },
     "execution_count": 50,
     "metadata": {},
     "output_type": "execute_result"
    }
   ],
   "source": [
    "ggplot(aes(x = 'Sales'), data = train) + geom_histogram()"
   ]
  }
 ],
 "metadata": {
  "kernelspec": {
   "display_name": "Python 2",
   "language": "python",
   "name": "python2"
  },
  "language_info": {
   "codemirror_mode": {
    "name": "ipython",
    "version": 2
   },
   "file_extension": ".py",
   "mimetype": "text/x-python",
   "name": "python",
   "nbconvert_exporter": "python",
   "pygments_lexer": "ipython2",
   "version": "2.7.6"
  }
 },
 "nbformat": 4,
 "nbformat_minor": 0
}
